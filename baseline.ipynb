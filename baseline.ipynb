{
 "cells": [
  {
   "cell_type": "markdown",
   "id": "45faa772",
   "metadata": {},
   "source": [
    "# Baseline"
   ]
  },
  {
   "cell_type": "markdown",
   "id": "6bf5ffb2",
   "metadata": {},
   "source": [
    "## Download and Import data\n",
    "We assume you already downloaded and unzipped the data folder. Else please follow instructions from: kaggle_intro.ipynb"
   ]
  },
  {
   "cell_type": "markdown",
   "id": "68b33f52",
   "metadata": {},
   "source": [
    "## General imports"
   ]
  },
  {
   "cell_type": "code",
   "execution_count": 5,
   "id": "b37fe5b8",
   "metadata": {},
   "outputs": [],
   "source": [
    "import numpy as np\n",
    "import kaggle\n",
    "\n",
    "# all code files used are stored in a tools folder\n",
    "# this allows us to directly import those files\n",
    "sys.path.append(\"tools\")\n",
    "\n",
    "# imports from tools folder\n",
    "import path"
   ]
  },
  {
   "cell_type": "markdown",
   "id": "8c71a480",
   "metadata": {},
   "source": [
    "## Data loader"
   ]
  }
 ],
 "metadata": {
  "kernelspec": {
   "display_name": "Python 3",
   "language": "python",
   "name": "python3"
  },
  "language_info": {
   "codemirror_mode": {
    "name": "ipython",
    "version": 3
   },
   "file_extension": ".py",
   "mimetype": "text/x-python",
   "name": "python",
   "nbconvert_exporter": "python",
   "pygments_lexer": "ipython3",
   "version": "3.8.5"
  }
 },
 "nbformat": 4,
 "nbformat_minor": 5
}
