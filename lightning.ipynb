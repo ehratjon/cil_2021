{
 "cells": [
  {
   "cell_type": "code",
   "execution_count": 36,
   "metadata": {},
   "outputs": [],
   "source": [
    "import numpy as np\n",
    "import matplotlib.pyplot as plt\n",
    "\n",
    "import torch\n",
    "from torch import nn\n",
    "from torch.utils.data import random_split\n",
    "from torch.utils.data import DataLoader\n",
    "from torch.nn import GRUCell\n",
    "from torch.utils.data import Dataset\n",
    "\n",
    "import torchvision\n",
    "import torchvision.transforms.functional as F\n",
    "from torchvision.io import ImageReadMode\n",
    "from torchvision.io import read_image\n",
    "from torchvision.utils import draw_segmentation_masks\n",
    "from torchvision.utils import make_grid\n",
    "from torchvision.ops import sigmoid_focal_loss\n",
    "from torchvision.transforms.functional import convert_image_dtype\n",
    "import torchvision.transforms as T\n",
    "import torchvision.transforms.functional as TF\n",
    "\n",
    "import pl_bolts\n",
    "from pl_bolts.models.vision import UNet\n",
    "\n",
    "import pytorch_lightning as pl\n",
    "from pytorch_lightning.callbacks import EarlyStopping\n",
    "\n",
    "import torchmetrics as tm\n",
    "\n",
    "from torchinfo import summary\n",
    "\n",
    "import random\n",
    "\n",
    "import imageio\n",
    "import imgaug as ia\n",
    "import imgaug.augmenters as iaa\n",
    "from imgaug.augmentables.segmaps import SegmentationMapsOnImage\n",
    "\n",
    "import os"
   ]
  },
  {
   "cell_type": "code",
   "execution_count": 37,
   "metadata": {},
   "outputs": [
    {
     "name": "stderr",
     "output_type": "stream",
     "text": [
      "Global seed set to 42\n"
     ]
    },
    {
     "data": {
      "text/plain": [
       "42"
      ]
     },
     "execution_count": 37,
     "metadata": {},
     "output_type": "execute_result"
    }
   ],
   "source": [
    "pl.seed_everything(42, workers=True)"
   ]
  },
  {
   "cell_type": "markdown",
   "metadata": {},
   "source": [
    "# 1. Preparation"
   ]
  },
  {
   "cell_type": "markdown",
   "metadata": {},
   "source": [
    "## 1.1 DataModule"
   ]
  },
  {
   "cell_type": "code",
   "execution_count": 71,
   "metadata": {},
   "outputs": [],
   "source": [
    "batch_size = 8\n",
    "num_workers = 4"
   ]
  },
  {
   "cell_type": "code",
   "execution_count": 72,
   "metadata": {},
   "outputs": [],
   "source": [
    "class RoadSatelliteSet(Dataset):\n",
    "    def __init__(self, dataset, transform_img=None, transform_tuple=None):\n",
    "        self.dataset = dataset\n",
    "        \n",
    "        self.transform_img = transform_img\n",
    "        self.transform_tuple = transform_tuple\n",
    "\n",
    "    def __len__(self):\n",
    "        return len(self.dataset)\n",
    "\n",
    "    def __getitem__(self, idx):\n",
    "        img, mask = self.dataset[idx]\n",
    "        \n",
    "        if self.transform_img:\n",
    "            img = self.transform_img(img)\n",
    "            \n",
    "        if self.transform_tuple:\n",
    "            img, mask = self.transform_tuple(img, mask)\n",
    "\n",
    "        return (img, mask)"
   ]
  },
  {
   "cell_type": "code",
   "execution_count": 73,
   "metadata": {},
   "outputs": [],
   "source": [
    "def rotation_tuple(img_tuple): \n",
    "        angle = T.RandomRotation(degrees=(0, 360)).get_params([0, 360])\n",
    "        \n",
    "        img_rot = TF.rotate(img_tuple[0], angle)\n",
    "        mask_rot = TF.rotate(img_tuple[1], angle)\n",
    "    \n",
    "        return (img_rot, mask_rot)"
   ]
  },
  {
   "cell_type": "code",
   "execution_count": 74,
   "metadata": {},
   "outputs": [],
   "source": [
    "class RoadSatelliteModule(pl.LightningDataModule):\n",
    "    def prepare_data(self):\n",
    "        self.train_images = self.read_images('train/images/', ImageReadMode.RGB)\n",
    "                \n",
    "        self.train_masks = self.read_images('train/groundtruth/', ImageReadMode.GRAY)\n",
    "    \n",
    "        for i, train_mask in enumerate(self.train_masks):\n",
    "            self.train_masks[i][self.train_masks[i] > 0] = 1\n",
    "            \n",
    "        self.train_zip = list(zip(self.train_images, self.train_masks))\n",
    "        \n",
    "        self.test_images = self.read_images('test/', ImageReadMode.RGB)\n",
    "\n",
    "        \n",
    "    def setup(self, stage=None):\n",
    "        if stage in (None, 'fit'): \n",
    "            train_length = int(len(self.train_zip) * 0.8)\n",
    "            valid_length = len(self.train_zip) - train_length\n",
    "\n",
    "            self.train_data, self.valid_data = random_split(self.train_zip, [train_length, valid_length])\n",
    "            \n",
    "            self.train_dataset = RoadSatelliteSet(self.train_data, transforms_img, randomAugmentations)\n",
    "            self.valid_dataset = RoadSatelliteSet(self.valid_data, transforms_img)\n",
    "            \n",
    "        if stage in (None, 'test'):\n",
    "            self.test_data = self.test_images\n",
    "            \n",
    "    def train_dataloader(self):\n",
    "        return DataLoader(\n",
    "            self.train_dataset, \n",
    "            num_workers=num_workers,\n",
    "            batch_size=batch_size,\n",
    "            shuffle=True,\n",
    "            pin_memory=True\n",
    "        )\n",
    "    \n",
    "    def val_dataloader(self):\n",
    "        return DataLoader(\n",
    "            self.valid_dataset, \n",
    "            num_workers=num_workers,\n",
    "            batch_size=batch_size,\n",
    "            shuffle=False,\n",
    "            pin_memory=True\n",
    "         )\n",
    "    \n",
    "    def test_dataloader(self):\n",
    "        return DataLoader(\n",
    "            self.test_data, \n",
    "            num_workers=num_workers,\n",
    "            batch_size=batch_size,\n",
    "            shuffle=False,\n",
    "            pin_memory=True\n",
    "        )\n",
    "    \n",
    "    def read_images(self, data_dir, read_mode):\n",
    "        return [read_image(data_dir + file, read_mode) for file in os.listdir(data_dir)]"
   ]
  },
  {
   "cell_type": "code",
   "execution_count": 75,
   "metadata": {},
   "outputs": [],
   "source": [
    "transforms_img = T.Compose(\n",
    "    [\n",
    "        T.RandomEqualize(p=1.0),\n",
    "        T.GaussianBlur(3, 5),\n",
    "        T.RandomAdjustSharpness(3, 1),\n",
    "    ]\n",
    ")"
   ]
  },
  {
   "cell_type": "code",
   "execution_count": 76,
   "metadata": {},
   "outputs": [],
   "source": [
    "def randomAugmentations(img, mask):    \n",
    "    if random.random() > 0.5:\n",
    "        angle = T.RandomRotation(degrees=(0, 360)).get_params([0, 360])\n",
    "\n",
    "        img = TF.rotate(img, angle)\n",
    "        mask = TF.rotate(mask, angle)\n",
    "        \n",
    "    if random.random() > 0.5:\n",
    "        img = TF.hflip(img)\n",
    "        mask = TF.hflip(mask)\n",
    "        \n",
    "    if random.random() > 0.5:\n",
    "        img = TF.vflip(img)\n",
    "        mask = TF.vflip(mask)\n",
    "        \n",
    "    return img, mask"
   ]
  },
  {
   "cell_type": "code",
   "execution_count": 77,
   "metadata": {},
   "outputs": [],
   "source": [
    "road_data = RoadSatelliteModule()"
   ]
  },
  {
   "cell_type": "code",
   "execution_count": 78,
   "metadata": {},
   "outputs": [],
   "source": [
    "road_data.prepare_data()\n",
    "road_data.setup()"
   ]
  },
  {
   "cell_type": "code",
   "execution_count": 79,
   "metadata": {},
   "outputs": [],
   "source": [
    "X, y = next(iter(road_data.train_dataloader()))"
   ]
  },
  {
   "cell_type": "markdown",
   "metadata": {},
   "source": [
    "## 1.2 Inspect data"
   ]
  },
  {
   "cell_type": "code",
   "execution_count": 80,
   "metadata": {},
   "outputs": [],
   "source": [
    "def show_image(imgs):\n",
    "    if not isinstance(imgs, list):\n",
    "        imgs = [imgs]\n",
    "    fix, axs = plt.subplots(ncols=len(imgs), squeeze=False)\n",
    "    for i, img in enumerate(imgs):\n",
    "        img = img.detach()\n",
    "        img = F.to_pil_image(img)\n",
    "        axs[0, i].imshow(np.asarray(img))\n",
    "        axs[0, i].set(xticklabels=[], yticklabels=[], xticks=[], yticks=[])"
   ]
  },
  {
   "cell_type": "code",
   "execution_count": 81,
   "metadata": {},
   "outputs": [
    {
     "data": {
      "image/png": "[encoded data removed]",
      "text/plain": [
       "<Figure size 432x288 with 1 Axes>"
      ]
     },
     "metadata": {},
     "output_type": "display_data"
    }
   ],
   "source": [
    "show_image(X[2])"
   ]
  },
  {
   "cell_type": "code",
   "execution_count": 82,
   "metadata": {},
   "outputs": [
    {
     "data": {
      "image/png": "[encoded data removed]",
      "text/plain": [
       "<Figure size 432x288 with 1 Axes>"
      ]
     },
     "metadata": {},
     "output_type": "display_data"
    }
   ],
   "source": [
    "show_image(y[2])"
   ]
  },
  {
   "cell_type": "code",
   "execution_count": 83,
   "metadata": {},
   "outputs": [],
   "source": [
    "seg_images = [draw_segmentation_masks(train_pair[0], train_pair[1].bool()) for train_pair in road_data.train_zip]"
   ]
  },
  {
   "cell_type": "code",
   "execution_count": 84,
   "metadata": {},
   "outputs": [],
   "source": [
    "#for seg_image in seg_images:\n",
    "#    show_image(seg_image)"
   ]
  },
  {
   "cell_type": "code",
   "execution_count": 85,
   "metadata": {},
   "outputs": [],
   "source": [
    "class DiceLoss(nn.Module):\n",
    "    def __init__(self, weight=None, size_average=True):\n",
    "        super(DiceLoss, self).__init__()\n",
    "\n",
    "    def forward(self, inputs, targets, smooth=1):\n",
    "        \n",
    "        #comment out if your model contains a sigmoid or equivalent activation layer\n",
    "        inputs = torch.sigmoid(inputs)       \n",
    "        \n",
    "        #flatten label and prediction tensors\n",
    "        inputs = inputs.view(-1)\n",
    "        targets = targets.view(-1)\n",
    "        \n",
    "        intersection = (inputs * targets).sum()                            \n",
    "        dice = (2.*intersection + smooth)/(inputs.sum() + targets.sum() + smooth)  \n",
    "        \n",
    "        return 1 - dice"
   ]
  },
  {
   "cell_type": "markdown",
   "metadata": {},
   "source": [
    "# 2. System"
   ]
  },
  {
   "cell_type": "code",
   "execution_count": 105,
   "metadata": {},
   "outputs": [],
   "source": [
    "class SemanticSegmentationSystem(pl.LightningModule):\n",
    "    def __init__(self, model: nn.Module, datamodule: pl.LightningDataModule, lr: float = 1e-3, batch_size: int = batch_size):\n",
    "        super().__init__()\n",
    "        \n",
    "        self.model = model\n",
    "        self.datamodule = datamodule\n",
    "        \n",
    "        self.lr = lr\n",
    "        self.batch_size = batch_size\n",
    "        \n",
    "        self.dice_loss = DiceLoss()\n",
    "\n",
    "    def training_step(self, batch, batch_idx):\n",
    "        X, y = batch\n",
    "        \n",
    "        X = X.float()\n",
    "        y = y.float()\n",
    "        \n",
    "        y_pred = self.model(X)\n",
    "       \n",
    "        #loss = sigmoid_focal_loss(y_pred, y, reduction='mean')\n",
    "        #loss = nn.functional.binary_cross_entropy_with_logits(y_pred, y, reduction='mean')\n",
    "        #loss = sigmoid_focal_loss(y_pred, y, reduction='mean') + nn.functional.binary_cross_entropy_with_logits(y_pred, y, reduction='mean')\n",
    "        loss = self.dice_loss(y_pred, y) + nn.functional.binary_cross_entropy_with_logits(y_pred, y, reduction='mean')\n",
    "        \n",
    "        self.log('training_loss', loss)\n",
    "        \n",
    "        return loss\n",
    "    \n",
    "    def validation_step(self, batch, batch_idx):\n",
    "        X, y = batch\n",
    "                \n",
    "        X = X.float()\n",
    "        y = y.int()\n",
    "        \n",
    "        y_pred = self.model(X)\n",
    "        y_sig = torch.sigmoid(y_pred)\n",
    "       \n",
    "        metric = tm.functional.accuracy(y_sig, y, average='samples')\n",
    "        \n",
    "        self.log('validation_metric', metric)\n",
    "        \n",
    "        return metric\n",
    "    \n",
    "    def test_step(self, batch, batch_idx):\n",
    "        X, _ = batch\n",
    "        \n",
    "        return self.model(X)\n",
    "    \n",
    "    @torch.no_grad()\n",
    "    def visualize_results(self):\n",
    "        Xs, ys = next(iter(self.val_dataloader()))\n",
    "                \n",
    "        y_preds = torch.sigmoid(self.model(X.float()))\n",
    "        \n",
    "        for y_pred in y_preds:\n",
    "            show_image(y_pred)\n",
    "           \n",
    "    @torch.no_grad()\n",
    "    def visualize_results_overlay(self):\n",
    "        Xs, ys = next(iter(self.val_dataloader()))\n",
    "                \n",
    "        y_preds = torch.sigmoid(self.model(Xs.float()))\n",
    "        \n",
    "        pred_zip = list(zip(Xs, y_preds))\n",
    "        \n",
    "        seg_images = [draw_segmentation_masks(train_pair[0], train_pair[1].round().bool(), colors=['#00ff00']) for train_pair in pred_zip]\n",
    "        \n",
    "        for seg_image in seg_images:\n",
    "            show_image(seg_image)\n",
    "            \n",
    "    def train_dataloader(self):\n",
    "        return self.datamodule.train_dataloader()\n",
    "\n",
    "    def val_dataloader(self):\n",
    "        return self.datamodule.val_dataloader()\n",
    "\n",
    "    def test_dataloader(self):\n",
    "        return self.datamodule.test_dataloader()\n",
    "    \n",
    "    def configure_optimizers(self):\n",
    "        optimizer = torch.optim.Adam(self.parameters(), lr=self.lr)\n",
    "        #scheduler = torch.optim.lr_scheduler.ReduceLROnPlateau(optimizer, patience=4, verbose=2)\n",
    "        scheduler = torch.optim.lr_scheduler.CosineAnnealingWarmRestarts(optimizer, 10, 2, 1e-6, verbose=2)\n",
    "        \n",
    "        return {\n",
    "            'optimizer': optimizer,\n",
    "            'lr_scheduler': scheduler,\n",
    "            'monitor': 'validation_metric'\n",
    "        }"
   ]
  },
  {
   "cell_type": "markdown",
   "metadata": {},
   "source": [
    "# 3. Model"
   ]
  },
  {
   "cell_type": "code",
   "execution_count": 106,
   "metadata": {},
   "outputs": [],
   "source": [
    "class SDNCell(nn.Module):\n",
    "    def __init__(self, num_features):\n",
    "        super().__init__()\n",
    "        self.gru = GRUCell(input_size=3*num_features, hidden_size=num_features)\n",
    "\n",
    "    def forward(self, neighboring_features, features):\n",
    "        \"\"\" Update current features based on neighboring features \"\"\"\n",
    "        return self.gru(torch.cat(neighboring_features, dim=1), features)\n",
    "\n",
    "\n",
    "class _CorrectionLayer(nn.Module):\n",
    "\n",
    "    def __init__(self, num_features, dir=0):\n",
    "        super().__init__()\n",
    "        self.num_features = num_features\n",
    "        self.cell = SDNCell(num_features)\n",
    "        if dir == 0:\n",
    "            self.forward = self.forward0\n",
    "        elif dir == 1:\n",
    "            self.forward = self.forward1\n",
    "        elif dir == 2:\n",
    "            self.forward = self.forward2\n",
    "        else:\n",
    "            self.forward = self.forward3\n",
    "        self.zero_pad = None\n",
    "\n",
    "    def _get_zero_pad(self, batch, device):\n",
    "        if self.zero_pad is None or self.zero_pad.shape[0] != batch:\n",
    "            self.zero_pad = torch.zeros((batch, self.num_features, 1), device=device)  # no grad ??\n",
    "        return self.zero_pad\n",
    "\n",
    "    def forward0(self, features):\n",
    "        batch = features.shape[0]\n",
    "        dim = features.shape[2]\n",
    "        zero_pad = self._get_zero_pad(batch, features.device)\n",
    "        # make a loop\n",
    "        for d in range(1, dim):\n",
    "            neighboring_features = torch.cat([zero_pad, features[:, :, :, d - 1], zero_pad], dim=2).transpose(1, 2)\n",
    "            # compute features\n",
    "            features[:, :, :, d] = self.cell(\n",
    "                neighboring_features=[neighboring_features[:, :-2, :].reshape(-1, self.num_features),\n",
    "                                      neighboring_features[:, 1:-1, :].reshape(-1, self.num_features),\n",
    "                                      neighboring_features[:, 2:, :].reshape(-1, self.num_features)],\n",
    "                features=features[:, :, :, d].transpose(1, 2).reshape(-1, self.num_features).clone()\n",
    "            ).reshape(batch, -1, self.num_features).transpose(1, 2)\n",
    "        # return new features\n",
    "        return features\n",
    "\n",
    "    def forward1(self, features):\n",
    "        batch = features.shape[0]\n",
    "        dim = features.shape[2]\n",
    "        zero_pad = self._get_zero_pad(batch, features.device)\n",
    "        # make a loop\n",
    "        for d in range(dim - 2, -1, -1):\n",
    "            neighboring_features = torch.cat([zero_pad, features[:, :, :, d + 1], zero_pad], dim=2).transpose(1, 2)\n",
    "            # compute features\n",
    "            features[:, :, :, d] = self.cell(\n",
    "                neighboring_features=[neighboring_features[:, :-2, :].reshape(-1, self.num_features),\n",
    "                                      neighboring_features[:, 1:-1, :].reshape(-1, self.num_features),\n",
    "                                      neighboring_features[:, 2:, :].reshape(-1, self.num_features)],\n",
    "                features=features[:, :, :, d].transpose(1, 2).reshape(-1, self.num_features).clone()\n",
    "            ).reshape(batch, -1, self.num_features).transpose(1, 2)\n",
    "        # return new features\n",
    "        return features\n",
    "\n",
    "    def forward2(self, features):\n",
    "        batch = features.shape[0]\n",
    "        dim = features.shape[2]\n",
    "        zero_pad = self._get_zero_pad(batch, features.device)\n",
    "        # make a loop\n",
    "        for d in range(1, dim):\n",
    "            neighboring_features = torch.cat([zero_pad, features[:, :, d - 1, :], zero_pad], dim=2).transpose(1, 2)\n",
    "            # compute features\n",
    "            features[:, :, d, :] = self.cell(\n",
    "                neighboring_features=[neighboring_features[:, :-2, :].reshape(-1, self.num_features),\n",
    "                                      neighboring_features[:, 1:-1, :].reshape(-1, self.num_features),\n",
    "                                      neighboring_features[:, 2:, :].reshape(-1, self.num_features)],\n",
    "                features=features[:, :, d, :].transpose(1, 2).reshape(-1, self.num_features).clone()\n",
    "            ).reshape(batch, -1, self.num_features).transpose(1, 2)\n",
    "        # return new features\n",
    "        return features\n",
    "\n",
    "    def forward3(self, features):\n",
    "        batch = features.shape[0]\n",
    "        dim = features.shape[2]\n",
    "        zero_pad = self._get_zero_pad(batch, features.device)\n",
    "        # make a loop\n",
    "        for d in range(dim - 2, -1, -1):\n",
    "            neighboring_features = torch.cat([zero_pad, features[:, :, d + 1, :], zero_pad], dim=2).transpose(1, 2)\n",
    "            # compute features\n",
    "            features[:, :, d, :] = self.cell(\n",
    "                neighboring_features=[neighboring_features[:, :-2, :].reshape(-1, self.num_features),\n",
    "                                      neighboring_features[:, 1:-1, :].reshape(-1, self.num_features),\n",
    "                                      neighboring_features[:, 2:, :].reshape(-1, self.num_features)],\n",
    "                features=features[:, :, d, :].transpose(1, 2).reshape(-1, self.num_features).clone()\n",
    "            ).reshape(batch, -1, self.num_features).transpose(1, 2)\n",
    "        # return new features\n",
    "        return features\n",
    "\n",
    "\n",
    "class SDNLayer(nn.Module):\n",
    "    def __init__(self, in_ch, out_ch, num_features, dirs, kernel_size, stride, padding, upsample):\n",
    "        super().__init__()\n",
    "        # project-in network\n",
    "        cnn_module = nn.ConvTranspose2d if 2 else nn.Conv2d\n",
    "        self.project_in_stage = cnn_module(in_ch, num_features, kernel_size, stride, padding)\n",
    "        # correction network\n",
    "        sdn_correction_layers = []\n",
    "        for dir in dirs:\n",
    "            sdn_correction_layers.append(_CorrectionLayer(num_features, dir=dir))\n",
    "        self.sdn_correction_stage = nn.Sequential(*sdn_correction_layers)\n",
    "        # project-out network\n",
    "        self.project_out_stage = nn.Conv2d(num_features, out_ch, 1)\n",
    "\n",
    "    def forward(self, x):\n",
    "        # (I) project-in stage\n",
    "        x = self.project_in_stage(x)\n",
    "        x = torch.tanh(x)\n",
    "        # (II) correction stage\n",
    "        x = x.contiguous(memory_format=torch.channels_last)\n",
    "        x = self.sdn_correction_stage(x)\n",
    "        x = x.contiguous(memory_format=torch.contiguous_format)\n",
    "        # (III) project-out stage\n",
    "        x = self.project_out_stage(x)\n",
    "        return x\n",
    "\n",
    "\n",
    "class ResSDNLayer(nn.Module):\n",
    "\n",
    "    def __init__(self, in_ch, out_ch, num_features, dirs, kernel_size, stride, padding, upsample):\n",
    "        super().__init__()\n",
    "        self.sdn = SDNLayer(in_ch, 2 * out_ch, num_features, dirs, kernel_size, stride, padding, upsample)\n",
    "        cnn_module = nn.ConvTranspose2d if upsample else nn.Conv2d\n",
    "        self.cnn = cnn_module(in_ch, out_ch, kernel_size, stride, padding)\n",
    "\n",
    "    def forward(self, input):\n",
    "        cnn_out = self.cnn(input)\n",
    "        sdn_out, gate = self.sdn(input).chunk(2, 1)\n",
    "        gate = torch.sigmoid(gate)\n",
    "        return gate * cnn_out + (1-gate) * sdn_out"
   ]
  },
  {
   "cell_type": "code",
   "execution_count": 107,
   "metadata": {},
   "outputs": [],
   "source": [
    "class VGGBlock(nn.Module):\n",
    "    def __init__(self, in_channels, middle_channels, out_channels):\n",
    "        super().__init__()\n",
    "        self.relu = nn.ReLU(inplace=True)\n",
    "        self.conv1 = nn.Conv2d(in_channels, middle_channels, 3, padding=1)\n",
    "        self.bn1 = nn.BatchNorm2d(middle_channels)\n",
    "        self.conv2 = nn.Conv2d(middle_channels, out_channels, 3, padding=1)\n",
    "        self.bn2 = nn.BatchNorm2d(out_channels)\n",
    "\n",
    "    def forward(self, x):\n",
    "        out = self.conv1(x)\n",
    "        out = self.bn1(out)\n",
    "        out = self.relu(out)\n",
    "\n",
    "        out = self.conv2(out)\n",
    "        out = self.bn2(out)\n",
    "        out = self.relu(out)\n",
    "\n",
    "        return out\n",
    "    \n",
    "class VGGSpatialBlock(nn.Module):\n",
    "    def __init__(self, in_channels, middle_channels, out_channels, upsample=False):\n",
    "        super().__init__()\n",
    "        self.relu = nn.ReLU(inplace=True)\n",
    "        self.conv1 = nn.Conv2d(in_channels, middle_channels, 3, padding=1)\n",
    "        self.bn1 = nn.BatchNorm2d(middle_channels)\n",
    "        \n",
    "        self.conv2 = nn.Conv2d(middle_channels, out_channels, 3, padding=1)\n",
    "        \n",
    "        self.spatial = ResSDNLayer(middle_channels, out_channels, 16, range(4), 3, 1, 1, upsample)\n",
    "        self.bn2 = nn.BatchNorm2d(out_channels)\n",
    "\n",
    "    def forward(self, x):\n",
    "        out = self.conv1(x)\n",
    "        out = self.bn1(out)\n",
    "        out = self.relu(out)\n",
    "\n",
    "        #out = self.conv2(out)\n",
    "        out = self.spatial(out)\n",
    "        out = self.bn2(out)\n",
    "        out = self.relu(out)\n",
    "\n",
    "        return out"
   ]
  },
  {
   "cell_type": "code",
   "execution_count": 108,
   "metadata": {},
   "outputs": [],
   "source": [
    "class UNet(nn.Module):\n",
    "    def __init__(self, num_classes, input_channels=3, **kwargs):\n",
    "        super().__init__()\n",
    "\n",
    "        nb_filter = [16, 32, 64, 128, 256, 512]\n",
    "        \n",
    "        down_upsample = False\n",
    "        up_upsample = True\n",
    "\n",
    "        self.pool = nn.MaxPool2d(2, 2)\n",
    "        self.up = nn.Upsample(scale_factor=2, mode='bilinear', align_corners=True)\n",
    "\n",
    "        self.conv0_0 = VGGBlock(input_channels, nb_filter[0], nb_filter[0])\n",
    "        self.spatial0_0 = VGGSpatialBlock(input_channels, nb_filter[0], nb_filter[0], down_upsample)\n",
    "        \n",
    "        self.conv1_0 = VGGBlock(nb_filter[0], nb_filter[1], nb_filter[1])\n",
    "        self.spatial1_0 = VGGSpatialBlock(nb_filter[0], nb_filter[1], nb_filter[1], down_upsample)\n",
    "        \n",
    "        self.conv2_0 = VGGBlock(nb_filter[1], nb_filter[2], nb_filter[2])\n",
    "        self.spatial2_0 = VGGSpatialBlock(nb_filter[1], nb_filter[2], nb_filter[2], down_upsample)\n",
    "\n",
    "        self.conv3_0 = VGGBlock(nb_filter[2], nb_filter[3], nb_filter[3])\n",
    "        self.spatial3_0 = VGGSpatialBlock(nb_filter[2], nb_filter[3], nb_filter[3], down_upsample)\n",
    "        \n",
    "        self.conv4_0 = VGGBlock(nb_filter[3], nb_filter[4], nb_filter[4])\n",
    "        self.spatial4_0 = VGGSpatialBlock(nb_filter[3], nb_filter[4], nb_filter[4], down_upsample)\n",
    "        \n",
    "        self.conv3_1 = VGGBlock(nb_filter[3]+nb_filter[4], nb_filter[3], nb_filter[3])\n",
    "        self.spatial3_1 = VGGSpatialBlock(nb_filter[3]+nb_filter[4], nb_filter[3], nb_filter[3], up_upsample)\n",
    "        \n",
    "        self.conv2_2 = VGGBlock(nb_filter[2]+nb_filter[3], nb_filter[2], nb_filter[2])\n",
    "        self.spatial2_2 = VGGSpatialBlock(nb_filter[2]+nb_filter[3], nb_filter[2], nb_filter[2], up_upsample)\n",
    "        \n",
    "        self.conv1_3 = VGGBlock(nb_filter[1]+nb_filter[2], nb_filter[1], nb_filter[1])\n",
    "        self.spatial1_3 = VGGSpatialBlock(nb_filter[1]+nb_filter[2], nb_filter[1], nb_filter[1], up_upsample)\n",
    "\n",
    "        self.conv0_4 = VGGBlock(nb_filter[0]+nb_filter[1], nb_filter[0], nb_filter[0])\n",
    "        self.spatial0_4 = VGGSpatialBlock(nb_filter[0]+nb_filter[1], nb_filter[0], nb_filter[0], up_upsample)\n",
    "\n",
    "        self.final = nn.Conv2d(nb_filter[0], num_classes, kernel_size=1)\n",
    "\n",
    "\n",
    "    def forward(self, input):\n",
    "        #x0_0 = self.conv0_0(input)\n",
    "        x0_0 = self.spatial0_0(input)\n",
    "        \n",
    "        x1_0 = self.conv1_0(self.pool(x0_0))\n",
    "        #x1_0 = self.spatial1_0(self.pool(x0_0))\n",
    "\n",
    "        #x2_0 = self.conv2_0(self.pool(x1_0))\n",
    "        x2_0 = self.spatial2_0(self.pool(x1_0))\n",
    "        \n",
    "        #x3_0 = self.conv3_0(self.pool(x2_0))\n",
    "        x3_0 = self.spatial3_0(self.pool(x2_0))\n",
    "        \n",
    "        #x4_0 = self.conv4_0(self.pool(x3_0))\n",
    "        x4_0 = self.spatial4_0(self.pool(x3_0))\n",
    "        \n",
    "        #x3_1 = self.conv3_1(torch.cat([x3_0, self.up(x4_0)], 1))\n",
    "        x3_1 = self.spatial3_1(torch.cat([x3_0, self.up(x4_0)], 1))\n",
    "        \n",
    "        #x2_2 = self.conv2_2(torch.cat([x2_0, self.up(x3_1)], 1))\n",
    "        x2_2 = self.spatial2_2(torch.cat([x2_0, self.up(x3_1)], 1))\n",
    "        \n",
    "        x1_3 = self.conv1_3(torch.cat([x1_0, self.up(x2_2)], 1)) \n",
    "        #x1_3 = self.spatial1_3(torch.cat([x1_0, self.up(x2_2)], 1))  \n",
    "\n",
    "        #x0_4 = self.conv0_4(torch.cat([x0_0, self.up(x1_3)], 1))\n",
    "        x0_4 = self.spatial0_4(torch.cat([x0_0, self.up(x1_3)], 1))\n",
    "        \n",
    "        output = self.final(x0_4)\n",
    "        return output"
   ]
  },
  {
   "cell_type": "code",
   "execution_count": 109,
   "metadata": {},
   "outputs": [],
   "source": [
    "class NestedUNet(nn.Module):\n",
    "    def __init__(self, num_classes, input_channels=3, deep_supervision=False, **kwargs):\n",
    "        super().__init__()\n",
    "\n",
    "        nb_filter = [16, 32, 64, 128, 256, 512]\n",
    "\n",
    "        self.deep_supervision = deep_supervision\n",
    "\n",
    "        self.pool = nn.MaxPool2d(2, 2)\n",
    "        self.up = nn.Upsample(scale_factor=2, mode='bilinear', align_corners=True)\n",
    "\n",
    "        self.conv0_0 = VGGBlock(input_channels, nb_filter[0], nb_filter[0])\n",
    "        self.conv1_0 = VGGBlock(nb_filter[0], nb_filter[1], nb_filter[1])\n",
    "        \n",
    "        self.conv2_0 = VGGBlock(nb_filter[1], nb_filter[2], nb_filter[2])\n",
    "        self.spatial2_0 = VGGSpatialBlock(nb_filter[1], nb_filter[2], nb_filter[2], False)\n",
    "        \n",
    "        self.conv3_0 = VGGBlock(nb_filter[2], nb_filter[3], nb_filter[3])\n",
    "        self.spatial3_0 = VGGSpatialBlock(nb_filter[2], nb_filter[3], nb_filter[3], False)\n",
    "\n",
    "        self.conv4_0 = VGGBlock(nb_filter[3], nb_filter[4], nb_filter[4])\n",
    "        self.spatial4_0 = VGGSpatialBlock(nb_filter[3], nb_filter[4], nb_filter[4], False)\n",
    "\n",
    "        self.conv0_1 = VGGBlock(nb_filter[0]+nb_filter[1], nb_filter[0], nb_filter[0])\n",
    "        self.conv1_1 = VGGBlock(nb_filter[1]+nb_filter[2], nb_filter[1], nb_filter[1])\n",
    "        \n",
    "        self.conv2_1 = VGGBlock(nb_filter[2]+nb_filter[3], nb_filter[2], nb_filter[2])\n",
    "        self.spatial2_1 = VGGSpatialBlock(nb_filter[2]+nb_filter[3], nb_filter[2], nb_filter[2], True)\n",
    "\n",
    "        self.conv3_1 = VGGBlock(nb_filter[3]+nb_filter[4], nb_filter[3], nb_filter[3])\n",
    "        self.spatial3_1 = VGGSpatialBlock(nb_filter[3]+nb_filter[4], nb_filter[3], nb_filter[3], True)\n",
    "\n",
    "        self.conv0_2 = VGGBlock(nb_filter[0]*2+nb_filter[1], nb_filter[0], nb_filter[0])\n",
    "        self.conv1_2 = VGGBlock(nb_filter[1]*2+nb_filter[2], nb_filter[1], nb_filter[1])\n",
    "        \n",
    "        self.conv2_2 = VGGBlock(nb_filter[2]*2+nb_filter[3], nb_filter[2], nb_filter[2])\n",
    "        self.spatial2_2 = VGGSpatialBlock(nb_filter[2]*2+nb_filter[3], nb_filter[2], nb_filter[2], True)\n",
    "\n",
    "        self.conv0_3 = VGGBlock(nb_filter[0]*3+nb_filter[1], nb_filter[0], nb_filter[0])\n",
    "        self.conv1_3 = VGGBlock(nb_filter[1]*3+nb_filter[2], nb_filter[1], nb_filter[1])\n",
    "\n",
    "        self.conv0_4 = VGGBlock(nb_filter[0]*4+nb_filter[1], nb_filter[0], nb_filter[0])\n",
    "\n",
    "        if self.deep_supervision:\n",
    "            self.final1 = nn.Conv2d(nb_filter[0], num_classes, kernel_size=1)\n",
    "            self.final2 = nn.Conv2d(nb_filter[0], num_classes, kernel_size=1)\n",
    "            self.final3 = nn.Conv2d(nb_filter[0], num_classes, kernel_size=1)\n",
    "            self.final4 = nn.Conv2d(nb_filter[0], num_classes, kernel_size=1)\n",
    "        else:\n",
    "            self.final = nn.Conv2d(nb_filter[0], num_classes, kernel_size=1)\n",
    "\n",
    "\n",
    "    def forward(self, input):\n",
    "        x0_0 = self.conv0_0(input)\n",
    "        x1_0 = self.conv1_0(self.pool(x0_0))\n",
    "        x0_1 = self.conv0_1(torch.cat([x0_0, self.up(x1_0)], 1))\n",
    "\n",
    "        #x2_0 = self.conv2_0(self.pool(x1_0))\n",
    "        x2_0 = self.spatial2_0(self.pool(x1_0))\n",
    "\n",
    "        x1_1 = self.conv1_1(torch.cat([x1_0, self.up(x2_0)], 1))\n",
    "        x0_2 = self.conv0_2(torch.cat([x0_0, x0_1, self.up(x1_1)], 1))\n",
    "\n",
    "        #x3_0 = self.conv3_0(self.pool(x2_0))\n",
    "        x3_0 = self.spatial3_0(self.pool(x2_0))\n",
    "\n",
    "        #x2_1 = self.conv2_1(torch.cat([x2_0, self.up(x3_0)], 1))\n",
    "        x2_1 = self.spatial2_1(torch.cat([x2_0, self.up(x3_0)], 1))\n",
    "\n",
    "        x1_2 = self.conv1_2(torch.cat([x1_0, x1_1, self.up(x2_1)], 1))\n",
    "        x0_3 = self.conv0_3(torch.cat([x0_0, x0_1, x0_2, self.up(x1_2)], 1))\n",
    "\n",
    "        #x4_0 = self.conv4_0(self.pool(x3_0))\n",
    "        x4_0 = self.spatial4_0(self.pool(x3_0))\n",
    "        \n",
    "        #x3_1 = self.conv3_1(torch.cat([x3_0, self.up(x4_0)], 1))\n",
    "        x3_1 = self.spatial3_1(torch.cat([x3_0, self.up(x4_0)], 1))\n",
    "\n",
    "        #x2_2 = self.conv2_2(torch.cat([x2_0, x2_1, self.up(x3_1)], 1))\n",
    "        x2_2 = self.spatial2_2(torch.cat([x2_0, x2_1, self.up(x3_1)], 1))\n",
    "\n",
    "        x1_3 = self.conv1_3(torch.cat([x1_0, x1_1, x1_2, self.up(x2_2)], 1))\n",
    "        x0_4 = self.conv0_4(torch.cat([x0_0, x0_1, x0_2, x0_3, self.up(x1_3)], 1))\n",
    "\n",
    "        if self.deep_supervision:\n",
    "            output1 = self.final1(x0_1)\n",
    "            output2 = self.final2(x0_2)\n",
    "            output3 = self.final3(x0_3)\n",
    "            output4 = self.final4(x0_4)\n",
    "            return [output1, output2, output3, output4]\n",
    "\n",
    "        else:\n",
    "            output = self.final(x0_4)\n",
    "            return output"
   ]
  },
  {
   "cell_type": "code",
   "execution_count": 110,
   "metadata": {},
   "outputs": [],
   "source": [
    "torch.cuda.empty_cache()"
   ]
  },
  {
   "cell_type": "code",
   "execution_count": 111,
   "metadata": {},
   "outputs": [],
   "source": [
    "model = NestedUNet(1, 3).cuda()"
   ]
  },
  {
   "cell_type": "code",
   "execution_count": 112,
   "metadata": {
    "scrolled": true
   },
   "outputs": [
    {
     "data": {
      "text/plain": [
       "=========================================================================================================\n",
       "Layer (type:depth-idx)                                  Output Shape              Param #\n",
       "=========================================================================================================\n",
       "NestedUNet                                              --                        --\n",
       "├─VGGBlock: 1-1                                         [8, 16, 400, 400]         --\n",
       "│    └─Conv2d: 2-1                                      [8, 16, 400, 400]         448\n",
       "│    └─BatchNorm2d: 2-2                                 [8, 16, 400, 400]         32\n",
       "│    └─ReLU: 2-3                                        [8, 16, 400, 400]         --\n",
       "│    └─Conv2d: 2-4                                      [8, 16, 400, 400]         2,320\n",
       "│    └─BatchNorm2d: 2-5                                 [8, 16, 400, 400]         32\n",
       "│    └─ReLU: 2-6                                        [8, 16, 400, 400]         --\n",
       "├─MaxPool2d: 1-2                                        [8, 16, 200, 200]         --\n",
       "├─VGGBlock: 1-3                                         [8, 32, 200, 200]         --\n",
       "│    └─Conv2d: 2-7                                      [8, 32, 200, 200]         4,640\n",
       "│    └─BatchNorm2d: 2-8                                 [8, 32, 200, 200]         64\n",
       "│    └─ReLU: 2-9                                        [8, 32, 200, 200]         --\n",
       "│    └─Conv2d: 2-10                                     [8, 32, 200, 200]         9,248\n",
       "│    └─BatchNorm2d: 2-11                                [8, 32, 200, 200]         64\n",
       "│    └─ReLU: 2-12                                       [8, 32, 200, 200]         --\n",
       "├─Upsample: 1-4                                         [8, 32, 400, 400]         --\n",
       "├─VGGBlock: 1-5                                         [8, 16, 400, 400]         --\n",
       "│    └─Conv2d: 2-13                                     [8, 16, 400, 400]         6,928\n",
       "│    └─BatchNorm2d: 2-14                                [8, 16, 400, 400]         32\n",
       "│    └─ReLU: 2-15                                       [8, 16, 400, 400]         --\n",
       "│    └─Conv2d: 2-16                                     [8, 16, 400, 400]         2,320\n",
       "│    └─BatchNorm2d: 2-17                                [8, 16, 400, 400]         32\n",
       "│    └─ReLU: 2-18                                       [8, 16, 400, 400]         --\n",
       "├─MaxPool2d: 1-6                                        [8, 32, 100, 100]         --\n",
       "├─VGGSpatialBlock: 1-7                                  [8, 64, 100, 100]         --\n",
       "│    └─Conv2d: 2-19                                     [8, 64, 100, 100]         18,496\n",
       "│    └─BatchNorm2d: 2-20                                [8, 64, 100, 100]         128\n",
       "│    └─ReLU: 2-21                                       [8, 64, 100, 100]         --\n",
       "│    └─ResSDNLayer: 2-22                                [8, 64, 100, 100]         --\n",
       "│    │    └─Conv2d: 3-1                                 [8, 64, 100, 100]         36,928\n",
       "│    │    └─SDNLayer: 3-2                               [8, 128, 100, 100]        24,080\n",
       "│    └─BatchNorm2d: 2-23                                [8, 64, 100, 100]         128\n",
       "│    └─ReLU: 2-24                                       [8, 64, 100, 100]         --\n",
       "├─Upsample: 1-8                                         [8, 64, 200, 200]         --\n",
       "├─VGGBlock: 1-9                                         [8, 32, 200, 200]         --\n",
       "│    └─Conv2d: 2-25                                     [8, 32, 200, 200]         27,680\n",
       "│    └─BatchNorm2d: 2-26                                [8, 32, 200, 200]         64\n",
       "│    └─ReLU: 2-27                                       [8, 32, 200, 200]         --\n",
       "│    └─Conv2d: 2-28                                     [8, 32, 200, 200]         9,248\n",
       "│    └─BatchNorm2d: 2-29                                [8, 32, 200, 200]         64\n",
       "│    └─ReLU: 2-30                                       [8, 32, 200, 200]         --\n",
       "├─Upsample: 1-10                                        [8, 32, 400, 400]         --\n",
       "├─VGGBlock: 1-11                                        [8, 16, 400, 400]         --\n",
       "│    └─Conv2d: 2-31                                     [8, 16, 400, 400]         9,232\n",
       "│    └─BatchNorm2d: 2-32                                [8, 16, 400, 400]         32\n",
       "│    └─ReLU: 2-33                                       [8, 16, 400, 400]         --\n",
       "│    └─Conv2d: 2-34                                     [8, 16, 400, 400]         2,320\n",
       "│    └─BatchNorm2d: 2-35                                [8, 16, 400, 400]         32\n",
       "│    └─ReLU: 2-36                                       [8, 16, 400, 400]         --\n",
       "├─MaxPool2d: 1-12                                       [8, 64, 50, 50]           --\n",
       "├─VGGSpatialBlock: 1-13                                 [8, 128, 50, 50]          --\n",
       "│    └─Conv2d: 2-37                                     [8, 128, 50, 50]          73,856\n",
       "│    └─BatchNorm2d: 2-38                                [8, 128, 50, 50]          256\n",
       "│    └─ReLU: 2-39                                       [8, 128, 50, 50]          --\n",
       "│    └─ResSDNLayer: 2-40                                [8, 128, 50, 50]          --\n",
       "│    │    └─Conv2d: 3-3                                 [8, 128, 50, 50]          147,584\n",
       "│    │    └─SDNLayer: 3-4                               [8, 256, 50, 50]          35,472\n",
       "│    └─BatchNorm2d: 2-41                                [8, 128, 50, 50]          256\n",
       "│    └─ReLU: 2-42                                       [8, 128, 50, 50]          --\n",
       "├─Upsample: 1-14                                        [8, 128, 100, 100]        --\n",
       "├─VGGSpatialBlock: 1-15                                 [8, 64, 100, 100]         --\n",
       "│    └─Conv2d: 2-43                                     [8, 64, 100, 100]         110,656\n",
       "│    └─BatchNorm2d: 2-44                                [8, 64, 100, 100]         128\n",
       "│    └─ReLU: 2-45                                       [8, 64, 100, 100]         --\n",
       "│    └─ResSDNLayer: 2-46                                [8, 64, 100, 100]         --\n",
       "│    │    └─ConvTranspose2d: 3-5                        [8, 64, 100, 100]         36,928\n",
       "│    │    └─SDNLayer: 3-6                               [8, 128, 100, 100]        24,080\n",
       "│    └─BatchNorm2d: 2-47                                [8, 64, 100, 100]         128\n",
       "│    └─ReLU: 2-48                                       [8, 64, 100, 100]         --\n",
       "├─Upsample: 1-16                                        [8, 64, 200, 200]         --\n",
       "├─VGGBlock: 1-17                                        [8, 32, 200, 200]         --\n",
       "│    └─Conv2d: 2-49                                     [8, 32, 200, 200]         36,896\n",
       "│    └─BatchNorm2d: 2-50                                [8, 32, 200, 200]         64\n",
       "│    └─ReLU: 2-51                                       [8, 32, 200, 200]         --\n",
       "│    └─Conv2d: 2-52                                     [8, 32, 200, 200]         9,248\n",
       "│    └─BatchNorm2d: 2-53                                [8, 32, 200, 200]         64\n",
       "│    └─ReLU: 2-54                                       [8, 32, 200, 200]         --\n",
       "├─Upsample: 1-18                                        [8, 32, 400, 400]         --\n",
       "├─VGGBlock: 1-19                                        [8, 16, 400, 400]         --\n",
       "│    └─Conv2d: 2-55                                     [8, 16, 400, 400]         11,536\n",
       "│    └─BatchNorm2d: 2-56                                [8, 16, 400, 400]         32\n",
       "│    └─ReLU: 2-57                                       [8, 16, 400, 400]         --\n",
       "│    └─Conv2d: 2-58                                     [8, 16, 400, 400]         2,320\n",
       "│    └─BatchNorm2d: 2-59                                [8, 16, 400, 400]         32\n",
       "│    └─ReLU: 2-60                                       [8, 16, 400, 400]         --\n",
       "├─MaxPool2d: 1-20                                       [8, 128, 25, 25]          --\n",
       "├─VGGSpatialBlock: 1-21                                 [8, 256, 25, 25]          --\n",
       "│    └─Conv2d: 2-61                                     [8, 256, 25, 25]          295,168\n",
       "│    └─BatchNorm2d: 2-62                                [8, 256, 25, 25]          512\n",
       "│    └─ReLU: 2-63                                       [8, 256, 25, 25]          --\n",
       "│    └─ResSDNLayer: 2-64                                [8, 256, 25, 25]          --\n",
       "│    │    └─Conv2d: 3-7                                 [8, 256, 25, 25]          590,080\n",
       "│    │    └─SDNLayer: 3-8                               [8, 512, 25, 25]          58,256\n",
       "│    └─BatchNorm2d: 2-65                                [8, 256, 25, 25]          512\n",
       "│    └─ReLU: 2-66                                       [8, 256, 25, 25]          --\n",
       "├─Upsample: 1-22                                        [8, 256, 50, 50]          --\n",
       "├─VGGSpatialBlock: 1-23                                 [8, 128, 50, 50]          --\n",
       "│    └─Conv2d: 2-67                                     [8, 128, 50, 50]          442,496\n",
       "│    └─BatchNorm2d: 2-68                                [8, 128, 50, 50]          256\n",
       "│    └─ReLU: 2-69                                       [8, 128, 50, 50]          --\n",
       "│    └─ResSDNLayer: 2-70                                [8, 128, 50, 50]          --\n",
       "│    │    └─ConvTranspose2d: 3-9                        [8, 128, 50, 50]          147,584\n",
       "│    │    └─SDNLayer: 3-10                              [8, 256, 50, 50]          35,472\n",
       "│    └─BatchNorm2d: 2-71                                [8, 128, 50, 50]          256\n",
       "│    └─ReLU: 2-72                                       [8, 128, 50, 50]          --\n",
       "├─Upsample: 1-24                                        [8, 128, 100, 100]        --\n",
       "├─VGGSpatialBlock: 1-25                                 [8, 64, 100, 100]         --\n",
       "│    └─Conv2d: 2-73                                     [8, 64, 100, 100]         147,520\n",
       "│    └─BatchNorm2d: 2-74                                [8, 64, 100, 100]         128\n",
       "│    └─ReLU: 2-75                                       [8, 64, 100, 100]         --\n",
       "│    └─ResSDNLayer: 2-76                                [8, 64, 100, 100]         --\n",
       "│    │    └─ConvTranspose2d: 3-11                       [8, 64, 100, 100]         36,928\n",
       "│    │    └─SDNLayer: 3-12                              [8, 128, 100, 100]        24,080\n",
       "│    └─BatchNorm2d: 2-77                                [8, 64, 100, 100]         128\n",
       "│    └─ReLU: 2-78                                       [8, 64, 100, 100]         --\n",
       "├─Upsample: 1-26                                        [8, 64, 200, 200]         --\n",
       "├─VGGBlock: 1-27                                        [8, 32, 200, 200]         --\n",
       "│    └─Conv2d: 2-79                                     [8, 32, 200, 200]         46,112\n",
       "│    └─BatchNorm2d: 2-80                                [8, 32, 200, 200]         64\n",
       "│    └─ReLU: 2-81                                       [8, 32, 200, 200]         --\n",
       "│    └─Conv2d: 2-82                                     [8, 32, 200, 200]         9,248\n",
       "│    └─BatchNorm2d: 2-83                                [8, 32, 200, 200]         64\n",
       "│    └─ReLU: 2-84                                       [8, 32, 200, 200]         --\n",
       "├─Upsample: 1-28                                        [8, 32, 400, 400]         --\n",
       "├─VGGBlock: 1-29                                        [8, 16, 400, 400]         --\n",
       "│    └─Conv2d: 2-85                                     [8, 16, 400, 400]         13,840\n",
       "│    └─BatchNorm2d: 2-86                                [8, 16, 400, 400]         32\n",
       "│    └─ReLU: 2-87                                       [8, 16, 400, 400]         --\n",
       "│    └─Conv2d: 2-88                                     [8, 16, 400, 400]         2,320\n",
       "│    └─BatchNorm2d: 2-89                                [8, 16, 400, 400]         32\n",
       "│    └─ReLU: 2-90                                       [8, 16, 400, 400]         --\n",
       "├─Conv2d: 1-30                                          [8, 1, 400, 400]          17\n",
       "=========================================================================================================\n",
       "Total params: 2,495,233\n",
       "Trainable params: 2,495,233\n",
       "Non-trainable params: 0\n",
       "Total mult-adds (G): 229.98\n",
       "=========================================================================================================\n",
       "Input size (MB): 15.36\n",
       "Forward/backward pass size (MB): 5680.46\n",
       "Params size (MB): 9.98\n",
       "Estimated Total Size (MB): 5705.80\n",
       "========================================================================================================="
      ]
     },
     "execution_count": 112,
     "metadata": {},
     "output_type": "execute_result"
    }
   ],
   "source": [
    "summary(model, input_size=(8, 3, 400, 400))"
   ]
  },
  {
   "cell_type": "code",
   "execution_count": 113,
   "metadata": {},
   "outputs": [],
   "source": [
    "X, y = next(iter(road_data.train_dataloader()))"
   ]
  },
  {
   "cell_type": "code",
   "execution_count": 114,
   "metadata": {},
   "outputs": [],
   "source": [
    "y_pred = model(X[:2].float().cuda())"
   ]
  },
  {
   "cell_type": "code",
   "execution_count": 115,
   "metadata": {},
   "outputs": [
    {
     "data": {
      "text/plain": [
       "torch.Size([2, 1, 400, 400])"
      ]
     },
     "execution_count": 115,
     "metadata": {},
     "output_type": "execute_result"
    }
   ],
   "source": [
    "y_pred.shape"
   ]
  },
  {
   "cell_type": "code",
   "execution_count": 116,
   "metadata": {},
   "outputs": [],
   "source": [
    "system = SemanticSegmentationSystem(model, road_data)"
   ]
  },
  {
   "cell_type": "code",
   "execution_count": 117,
   "metadata": {
    "scrolled": true
   },
   "outputs": [],
   "source": [
    "#system.visualize_results()"
   ]
  },
  {
   "cell_type": "code",
   "execution_count": 118,
   "metadata": {},
   "outputs": [],
   "source": [
    "#system.visualize_results_overlay()"
   ]
  },
  {
   "cell_type": "markdown",
   "metadata": {},
   "source": [
    "# 4. Training"
   ]
  },
  {
   "cell_type": "code",
   "execution_count": 119,
   "metadata": {},
   "outputs": [],
   "source": [
    "early_stop_callback = EarlyStopping(\n",
    "   monitor='validation_metric',\n",
    "   patience=20,\n",
    "   verbose=2,\n",
    "   mode='max'\n",
    ")"
   ]
  },
  {
   "cell_type": "code",
   "execution_count": 120,
   "metadata": {},
   "outputs": [
    {
     "name": "stderr",
     "output_type": "stream",
     "text": [
      "GPU available: True, used: True\n",
      "TPU available: False, using: 0 TPU cores\n"
     ]
    }
   ],
   "source": [
    "trainer = pl.Trainer(\n",
    "    #fast_dev_run=True,\n",
    "    gpus=-1,\n",
    "    auto_select_gpus=True,\n",
    "    #auto_lr_find=True,\n",
    "    auto_scale_batch_size='binsearch',\n",
    "    stochastic_weight_avg=True,\n",
    "    benchmark=True,\n",
    "    callbacks=[early_stop_callback]\n",
    ")"
   ]
  },
  {
   "cell_type": "code",
   "execution_count": 121,
   "metadata": {
    "scrolled": true
   },
   "outputs": [
    {
     "name": "stderr",
     "output_type": "stream",
     "text": [
      "LOCAL_RANK: 0 - CUDA_VISIBLE_DEVICES: [0]\n"
     ]
    },
    {
     "name": "stdout",
     "output_type": "stream",
     "text": [
      "Epoch     0: adjusting learning rate of group 0 to 1.0000e-03.\n"
     ]
    },
    {
     "name": "stderr",
     "output_type": "stream",
     "text": [
      "Global seed set to 42\n"
     ]
    },
    {
     "name": "stdout",
     "output_type": "stream",
     "text": [
      "Epoch     1: adjusting learning rate of group 0 to 9.7555e-04.\n"
     ]
    },
    {
     "name": "stderr",
     "output_type": "stream",
     "text": [
      "Batch size 2 succeeded, trying batch size 4\n",
      "LOCAL_RANK: 0 - CUDA_VISIBLE_DEVICES: [0]\n"
     ]
    },
    {
     "name": "stdout",
     "output_type": "stream",
     "text": [
      "Epoch     0: adjusting learning rate of group 0 to 1.0000e-03.\n"
     ]
    },
    {
     "name": "stderr",
     "output_type": "stream",
     "text": [
      "Global seed set to 42\n"
     ]
    },
    {
     "name": "stdout",
     "output_type": "stream",
     "text": [
      "Epoch     1: adjusting learning rate of group 0 to 9.7555e-04.\n"
     ]
    },
    {
     "name": "stderr",
     "output_type": "stream",
     "text": [
      "Batch size 4 succeeded, trying batch size 8\n",
      "LOCAL_RANK: 0 - CUDA_VISIBLE_DEVICES: [0]\n"
     ]
    },
    {
     "name": "stdout",
     "output_type": "stream",
     "text": [
      "Epoch     0: adjusting learning rate of group 0 to 1.0000e-03.\n"
     ]
    },
    {
     "name": "stderr",
     "output_type": "stream",
     "text": [
      "Global seed set to 42\n"
     ]
    },
    {
     "name": "stdout",
     "output_type": "stream",
     "text": [
      "Epoch     1: adjusting learning rate of group 0 to 9.7555e-04.\n"
     ]
    },
    {
     "name": "stderr",
     "output_type": "stream",
     "text": [
      "Batch size 8 succeeded, trying batch size 16\n",
      "LOCAL_RANK: 0 - CUDA_VISIBLE_DEVICES: [0]\n"
     ]
    },
    {
     "name": "stdout",
     "output_type": "stream",
     "text": [
      "Epoch     0: adjusting learning rate of group 0 to 1.0000e-03.\n"
     ]
    },
    {
     "name": "stderr",
     "output_type": "stream",
     "text": [
      "Global seed set to 42\n"
     ]
    },
    {
     "name": "stdout",
     "output_type": "stream",
     "text": [
      "Epoch     1: adjusting learning rate of group 0 to 9.7555e-04.\n"
     ]
    },
    {
     "name": "stderr",
     "output_type": "stream",
     "text": [
      "Batch size 16 succeeded, trying batch size 32\n",
      "LOCAL_RANK: 0 - CUDA_VISIBLE_DEVICES: [0]\n"
     ]
    },
    {
     "name": "stdout",
     "output_type": "stream",
     "text": [
      "Epoch     0: adjusting learning rate of group 0 to 1.0000e-03.\n"
     ]
    },
    {
     "name": "stderr",
     "output_type": "stream",
     "text": [
      "Global seed set to 42\n"
     ]
    },
    {
     "name": "stdout",
     "output_type": "stream",
     "text": [
      "Epoch     1: adjusting learning rate of group 0 to 9.7555e-04.\n"
     ]
    },
    {
     "name": "stderr",
     "output_type": "stream",
     "text": [
      "Batch size 32 succeeded, trying batch size 64\n",
      "LOCAL_RANK: 0 - CUDA_VISIBLE_DEVICES: [0]\n"
     ]
    },
    {
     "name": "stdout",
     "output_type": "stream",
     "text": [
      "Epoch     0: adjusting learning rate of group 0 to 1.0000e-03.\n"
     ]
    },
    {
     "name": "stderr",
     "output_type": "stream",
     "text": [
      "Global seed set to 42\n"
     ]
    },
    {
     "name": "stdout",
     "output_type": "stream",
     "text": [
      "Epoch     1: adjusting learning rate of group 0 to 9.7555e-04.\n"
     ]
    },
    {
     "name": "stderr",
     "output_type": "stream",
     "text": [
      "Batch size 64 succeeded, trying batch size 128\n",
      "LOCAL_RANK: 0 - CUDA_VISIBLE_DEVICES: [0]\n"
     ]
    },
    {
     "name": "stdout",
     "output_type": "stream",
     "text": [
      "Epoch     0: adjusting learning rate of group 0 to 1.0000e-03.\n"
     ]
    },
    {
     "name": "stderr",
     "output_type": "stream",
     "text": [
      "Global seed set to 42\n"
     ]
    },
    {
     "name": "stdout",
     "output_type": "stream",
     "text": [
      "Epoch     1: adjusting learning rate of group 0 to 9.7555e-04.\n"
     ]
    },
    {
     "name": "stderr",
     "output_type": "stream",
     "text": [
      "Batch size 80 succeeded, trying batch size 160\n",
      "Finished batch size finder, will continue with full run using batch size 80\n",
      "Restored states from the checkpoint file at /cluster/home/mboss/cil_2021/scale_batch_size_temp_model.ckpt\n"
     ]
    },
    {
     "data": {
      "text/plain": [
       "{'scale_batch_size': 80}"
      ]
     },
     "execution_count": 121,
     "metadata": {},
     "output_type": "execute_result"
    }
   ],
   "source": [
    "trainer.tune(system)"
   ]
  },
  {
   "cell_type": "code",
   "execution_count": null,
   "metadata": {},
   "outputs": [
    {
     "name": "stderr",
     "output_type": "stream",
     "text": [
      "LOCAL_RANK: 0 - CUDA_VISIBLE_DEVICES: [0]\n",
      "\n",
      "  | Name      | Type       | Params\n",
      "-----------------------------------------\n",
      "0 | model     | NestedUNet | 5.6 M \n",
      "1 | dice_loss | DiceLoss   | 0     \n",
      "-----------------------------------------\n",
      "5.6 M     Trainable params\n",
      "0         Non-trainable params\n",
      "5.6 M     Total params\n",
      "22.313    Total estimated model params size (MB)\n"
     ]
    },
    {
     "name": "stdout",
     "output_type": "stream",
     "text": [
      "Epoch     0: adjusting learning rate of group 0 to 1.0000e-03.\n"
     ]
    },
    {
     "data": {
      "application/vnd.jupyter.widget-view+json": {
       "model_id": "",
       "version_major": 2,
       "version_minor": 0
      },
      "text/plain": [
       "Validation sanity check: 0it [00:00, ?it/s]"
      ]
     },
     "metadata": {},
     "output_type": "display_data"
    },
    {
     "name": "stderr",
     "output_type": "stream",
     "text": [
      "Global seed set to 42\n"
     ]
    },
    {
     "data": {
      "application/vnd.jupyter.widget-view+json": {
       "model_id": "197ee5a4a3534219aa50d5934dbb63c3",
       "version_major": 2,
       "version_minor": 0
      },
      "text/plain": [
       "Training: 2it [00:00, ?it/s]"
      ]
     },
     "metadata": {},
     "output_type": "display_data"
    },
    {
     "data": {
      "application/vnd.jupyter.widget-view+json": {
       "model_id": "",
       "version_major": 2,
       "version_minor": 0
      },
      "text/plain": [
       "Validating: 0it [00:00, ?it/s]"
      ]
     },
     "metadata": {},
     "output_type": "display_data"
    },
    {
     "name": "stderr",
     "output_type": "stream",
     "text": [
      "Metric validation_metric improved. New best score: 0.629\n"
     ]
    },
    {
     "name": "stdout",
     "output_type": "stream",
     "text": [
      "Epoch     1: adjusting learning rate of group 0 to 9.7555e-04.\n"
     ]
    },
    {
     "data": {
      "application/vnd.jupyter.widget-view+json": {
       "model_id": "",
       "version_major": 2,
       "version_minor": 0
      },
      "text/plain": [
       "Validating: 0it [00:00, ?it/s]"
      ]
     },
     "metadata": {},
     "output_type": "display_data"
    },
    {
     "name": "stdout",
     "output_type": "stream",
     "text": [
      "Epoch     2: adjusting learning rate of group 0 to 9.0460e-04.\n"
     ]
    },
    {
     "data": {
      "application/vnd.jupyter.widget-view+json": {
       "model_id": "",
       "version_major": 2,
       "version_minor": 0
      },
      "text/plain": [
       "Validating: 0it [00:00, ?it/s]"
      ]
     },
     "metadata": {},
     "output_type": "display_data"
    },
    {
     "name": "stderr",
     "output_type": "stream",
     "text": [
      "Metric validation_metric improved by 0.157 >= min_delta = 0.0. New best score: 0.786\n"
     ]
    },
    {
     "name": "stdout",
     "output_type": "stream",
     "text": [
      "Epoch     3: adjusting learning rate of group 0 to 7.9410e-04.\n"
     ]
    },
    {
     "data": {
      "application/vnd.jupyter.widget-view+json": {
       "model_id": "",
       "version_major": 2,
       "version_minor": 0
      },
      "text/plain": [
       "Validating: 0it [00:00, ?it/s]"
      ]
     },
     "metadata": {},
     "output_type": "display_data"
    },
    {
     "name": "stderr",
     "output_type": "stream",
     "text": [
      "Metric validation_metric improved by 0.002 >= min_delta = 0.0. New best score: 0.788\n"
     ]
    },
    {
     "name": "stdout",
     "output_type": "stream",
     "text": [
      "Epoch     4: adjusting learning rate of group 0 to 6.5485e-04.\n"
     ]
    },
    {
     "data": {
      "application/vnd.jupyter.widget-view+json": {
       "model_id": "",
       "version_major": 2,
       "version_minor": 0
      },
      "text/plain": [
       "Validating: 0it [00:00, ?it/s]"
      ]
     },
     "metadata": {},
     "output_type": "display_data"
    },
    {
     "name": "stderr",
     "output_type": "stream",
     "text": [
      "Metric validation_metric improved by 0.003 >= min_delta = 0.0. New best score: 0.791\n"
     ]
    },
    {
     "name": "stdout",
     "output_type": "stream",
     "text": [
      "Epoch     5: adjusting learning rate of group 0 to 5.0050e-04.\n"
     ]
    },
    {
     "data": {
      "application/vnd.jupyter.widget-view+json": {
       "model_id": "",
       "version_major": 2,
       "version_minor": 0
      },
      "text/plain": [
       "Validating: 0it [00:00, ?it/s]"
      ]
     },
     "metadata": {},
     "output_type": "display_data"
    },
    {
     "name": "stderr",
     "output_type": "stream",
     "text": [
      "Metric validation_metric improved by 0.066 >= min_delta = 0.0. New best score: 0.857\n"
     ]
    },
    {
     "name": "stdout",
     "output_type": "stream",
     "text": [
      "Epoch     6: adjusting learning rate of group 0 to 3.4615e-04.\n"
     ]
    },
    {
     "data": {
      "application/vnd.jupyter.widget-view+json": {
       "model_id": "",
       "version_major": 2,
       "version_minor": 0
      },
      "text/plain": [
       "Validating: 0it [00:00, ?it/s]"
      ]
     },
     "metadata": {},
     "output_type": "display_data"
    },
    {
     "name": "stderr",
     "output_type": "stream",
     "text": [
      "Metric validation_metric improved by 0.029 >= min_delta = 0.0. New best score: 0.885\n"
     ]
    },
    {
     "name": "stdout",
     "output_type": "stream",
     "text": [
      "Epoch     7: adjusting learning rate of group 0 to 2.0690e-04.\n"
     ]
    },
    {
     "data": {
      "application/vnd.jupyter.widget-view+json": {
       "model_id": "",
       "version_major": 2,
       "version_minor": 0
      },
      "text/plain": [
       "Validating: 0it [00:00, ?it/s]"
      ]
     },
     "metadata": {},
     "output_type": "display_data"
    },
    {
     "name": "stdout",
     "output_type": "stream",
     "text": [
      "Epoch     8: adjusting learning rate of group 0 to 9.6396e-05.\n"
     ]
    },
    {
     "data": {
      "application/vnd.jupyter.widget-view+json": {
       "model_id": "",
       "version_major": 2,
       "version_minor": 0
      },
      "text/plain": [
       "Validating: 0it [00:00, ?it/s]"
      ]
     },
     "metadata": {},
     "output_type": "display_data"
    },
    {
     "name": "stdout",
     "output_type": "stream",
     "text": [
      "Epoch     9: adjusting learning rate of group 0 to 2.5447e-05.\n"
     ]
    },
    {
     "data": {
      "application/vnd.jupyter.widget-view+json": {
       "model_id": "",
       "version_major": 2,
       "version_minor": 0
      },
      "text/plain": [
       "Validating: 0it [00:00, ?it/s]"
      ]
     },
     "metadata": {},
     "output_type": "display_data"
    },
    {
     "name": "stderr",
     "output_type": "stream",
     "text": [
      "Metric validation_metric improved by 0.001 >= min_delta = 0.0. New best score: 0.886\n"
     ]
    },
    {
     "name": "stdout",
     "output_type": "stream",
     "text": [
      "Epoch    10: adjusting learning rate of group 0 to 1.0000e-03.\n"
     ]
    },
    {
     "data": {
      "application/vnd.jupyter.widget-view+json": {
       "model_id": "",
       "version_major": 2,
       "version_minor": 0
      },
      "text/plain": [
       "Validating: 0it [00:00, ?it/s]"
      ]
     },
     "metadata": {},
     "output_type": "display_data"
    },
    {
     "name": "stdout",
     "output_type": "stream",
     "text": [
      "Epoch    11: adjusting learning rate of group 0 to 9.9385e-04.\n"
     ]
    },
    {
     "data": {
      "application/vnd.jupyter.widget-view+json": {
       "model_id": "",
       "version_major": 2,
       "version_minor": 0
      },
      "text/plain": [
       "Validating: 0it [00:00, ?it/s]"
      ]
     },
     "metadata": {},
     "output_type": "display_data"
    },
    {
     "name": "stdout",
     "output_type": "stream",
     "text": [
      "Epoch    12: adjusting learning rate of group 0 to 9.7555e-04.\n"
     ]
    },
    {
     "data": {
      "application/vnd.jupyter.widget-view+json": {
       "model_id": "",
       "version_major": 2,
       "version_minor": 0
      },
      "text/plain": [
       "Validating: 0it [00:00, ?it/s]"
      ]
     },
     "metadata": {},
     "output_type": "display_data"
    },
    {
     "name": "stdout",
     "output_type": "stream",
     "text": [
      "Epoch    13: adjusting learning rate of group 0 to 9.4556e-04.\n"
     ]
    },
    {
     "data": {
      "application/vnd.jupyter.widget-view+json": {
       "model_id": "",
       "version_major": 2,
       "version_minor": 0
      },
      "text/plain": [
       "Validating: 0it [00:00, ?it/s]"
      ]
     },
     "metadata": {},
     "output_type": "display_data"
    },
    {
     "name": "stdout",
     "output_type": "stream",
     "text": [
      "Epoch    14: adjusting learning rate of group 0 to 9.0460e-04.\n"
     ]
    },
    {
     "data": {
      "application/vnd.jupyter.widget-view+json": {
       "model_id": "",
       "version_major": 2,
       "version_minor": 0
      },
      "text/plain": [
       "Validating: 0it [00:00, ?it/s]"
      ]
     },
     "metadata": {},
     "output_type": "display_data"
    },
    {
     "name": "stderr",
     "output_type": "stream",
     "text": [
      "Metric validation_metric improved by 0.012 >= min_delta = 0.0. New best score: 0.898\n"
     ]
    },
    {
     "name": "stdout",
     "output_type": "stream",
     "text": [
      "Epoch    15: adjusting learning rate of group 0 to 8.5370e-04.\n"
     ]
    },
    {
     "data": {
      "application/vnd.jupyter.widget-view+json": {
       "model_id": "",
       "version_major": 2,
       "version_minor": 0
      },
      "text/plain": [
       "Validating: 0it [00:00, ?it/s]"
      ]
     },
     "metadata": {},
     "output_type": "display_data"
    },
    {
     "name": "stdout",
     "output_type": "stream",
     "text": [
      "Epoch    16: adjusting learning rate of group 0 to 7.9410e-04.\n"
     ]
    },
    {
     "data": {
      "application/vnd.jupyter.widget-view+json": {
       "model_id": "feb7704346e74a1c9fde827a8865110d",
       "version_major": 2,
       "version_minor": 0
      },
      "text/plain": [
       "Validating: 0it [00:00, ?it/s]"
      ]
     },
     "metadata": {},
     "output_type": "display_data"
    }
   ],
   "source": [
    "trainer.fit(system)"
   ]
  },
  {
   "cell_type": "code",
   "execution_count": 104,
   "metadata": {},
   "outputs": [],
   "source": [
    "X, y = next(iter(road_data.val_dataloader()))"
   ]
  },
  {
   "cell_type": "code",
   "execution_count": null,
   "metadata": {},
   "outputs": [],
   "source": [
    "show_image(torch.sigmoid(model.cuda()(X[:2].float().cuda()))[1])"
   ]
  },
  {
   "cell_type": "code",
   "execution_count": null,
   "metadata": {},
   "outputs": [],
   "source": [
    "show_image(X[1])"
   ]
  },
  {
   "cell_type": "code",
   "execution_count": null,
   "metadata": {},
   "outputs": [],
   "source": [
    "show_image(y[1])"
   ]
  },
  {
   "cell_type": "code",
   "execution_count": null,
   "metadata": {},
   "outputs": [],
   "source": [
    "system.visualize_results_overlay()"
   ]
  },
  {
   "cell_type": "code",
   "execution_count": null,
   "metadata": {},
   "outputs": [],
   "source": []
  },
  {
   "cell_type": "code",
   "execution_count": null,
   "metadata": {},
   "outputs": [],
   "source": []
  },
  {
   "cell_type": "code",
   "execution_count": null,
   "metadata": {},
   "outputs": [],
   "source": []
  }
 ],
 "metadata": {
  "kernelspec": {
   "display_name": "Python (mp-env)",
   "language": "python",
   "name": "mp-env"
  },
  "language_info": {
   "codemirror_mode": {
    "name": "ipython",
    "version": 3
   },
   "file_extension": ".py",
   "mimetype": "text/x-python",
   "name": "python",
   "nbconvert_exporter": "python",
   "pygments_lexer": "ipython3",
   "version": "3.7.4"
  }
 },
 "nbformat": 4,
 "nbformat_minor": 2
}
