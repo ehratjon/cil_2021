{
 "cells": [
  {
   "cell_type": "code",
   "execution_count": 2,
   "id": "agricultural-testament",
   "metadata": {},
   "outputs": [],
   "source": [
    "import os\n",
    "import sys\n",
    "\n",
    "import time\n",
    "import utils\n",
    "import glob\n",
    "\n",
    "import math\n",
    "import numpy as np\n",
    "\n",
    "from typing import Optional\n",
    "\n",
    "import torch\n",
    "from torch import nn\n",
    "import torch.nn.functional as F\n",
    "from torch.utils.data import DataLoader, random_split\n",
    "import torch.optim.lr_scheduler as lr\n",
    "\n",
    "from torchvision import transforms\n",
    "from torchvision.datasets import MNIST\n",
    "\n",
    "import torchmetrics as tm\n",
    "\n",
    "\n",
    "import pytorch_lightning as pl\n",
    "\n",
    "from pytorch_lightning.callbacks.early_stopping import EarlyStopping\n",
    "from pytorch_lightning import Trainer, seed_everything\n"
   ]
  },
  {
   "cell_type": "markdown",
   "id": "sensitive-beauty",
   "metadata": {},
   "source": [
    "### Fixing seed for Reproducability"
   ]
  },
  {
   "cell_type": "code",
   "execution_count": 5,
   "id": "outside-application",
   "metadata": {},
   "outputs": [
    {
     "name": "stderr",
     "output_type": "stream",
     "text": [
      "Global seed set to 121\n"
     ]
    },
    {
     "data": {
      "text/plain": [
       "121"
      ]
     },
     "execution_count": 5,
     "metadata": {},
     "output_type": "execute_result"
    }
   ],
   "source": [
    "seed = 121\n",
    "seed_everything(seed, workers=True)"
   ]
  },
  {
   "cell_type": "markdown",
   "id": "bored-scotland",
   "metadata": {},
   "source": [
    "### Config setup"
   ]
  },
  {
   "cell_type": "code",
   "execution_count": 7,
   "id": "important-convertible",
   "metadata": {},
   "outputs": [],
   "source": [
    "data_dir = \"./cil_data/\""
   ]
  },
  {
   "cell_type": "code",
   "execution_count": 8,
   "id": "electric-lyric",
   "metadata": {},
   "outputs": [],
   "source": [
    "batch_size = 16\n",
    "bs_train = batch_size\n",
    "bs_eval = batch_size\n",
    "\n",
    "learning_rate = 0.005\n",
    "\n",
    "data_workers = 8"
   ]
  },
  {
   "cell_type": "markdown",
   "id": "twelve-chamber",
   "metadata": {},
   "source": [
    "### Data Transformations and Loading"
   ]
  },
  {
   "cell_type": "code",
   "execution_count": null,
   "id": "behavioral-dubai",
   "metadata": {},
   "outputs": [],
   "source": []
  },
  {
   "cell_type": "markdown",
   "id": "placed-forty",
   "metadata": {},
   "source": [
    "### Train model"
   ]
  },
  {
   "cell_type": "code",
   "execution_count": 12,
   "id": "optimum-egypt",
   "metadata": {},
   "outputs": [],
   "source": [
    "early_stop_callback = EarlyStopping(\n",
    "   monitor='val_loss',\n",
    "   patience=15,\n",
    "   verbose=2,\n",
    "   mode='min'\n",
    ")"
   ]
  },
  {
   "cell_type": "code",
   "execution_count": 13,
   "id": "blind-arabic",
   "metadata": {},
   "outputs": [
    {
     "name": "stderr",
     "output_type": "stream",
     "text": [
      "GPU available: False, used: False\n",
      "TPU available: False, using: 0 TPU cores\n",
      "Running in fast_dev_run mode: will run a full train, val and test loop using 1 batch(es).\n"
     ]
    }
   ],
   "source": [
    "trainer = pl.Trainer(\n",
    "    deterministic=True,\n",
    "    fast_dev_run=True,\n",
    "    #gpus=-1, \n",
    "    #auto_select_gpus=True, \n",
    "    #auto_lr_find=True, \n",
    "    #benchmark=True,    \n",
    "    progress_bar_refresh_rate=10,\n",
    "    stochastic_weight_avg=True, \n",
    "    auto_scale_batch_size='binsearch',\n",
    "    callbacks=[early_stop_callback])"
   ]
  },
  {
   "cell_type": "code",
   "execution_count": 14,
   "id": "minute-occupation",
   "metadata": {},
   "outputs": [
    {
     "ename": "NameError",
     "evalue": "name 'system' is not defined",
     "output_type": "error",
     "traceback": [
      "\u001b[0;31m---------------------------------------------------------------------------\u001b[0m",
      "\u001b[0;31mNameError\u001b[0m                                 Traceback (most recent call last)",
      "\u001b[0;32m<ipython-input-14-7cb8904414db>\u001b[0m in \u001b[0;36m<module>\u001b[0;34m\u001b[0m\n\u001b[0;32m----> 1\u001b[0;31m \u001b[0mtrainer\u001b[0m\u001b[0;34m.\u001b[0m\u001b[0mtune\u001b[0m\u001b[0;34m(\u001b[0m\u001b[0msystem\u001b[0m\u001b[0;34m)\u001b[0m\u001b[0;34m\u001b[0m\u001b[0;34m\u001b[0m\u001b[0m\n\u001b[0m",
      "\u001b[0;31mNameError\u001b[0m: name 'system' is not defined"
     ]
    }
   ],
   "source": [
    "trainer.tune(system)"
   ]
  },
  {
   "cell_type": "code",
   "execution_count": null,
   "id": "loaded-pastor",
   "metadata": {},
   "outputs": [],
   "source": [
    "trainer.fit(system)"
   ]
  }
 ],
 "metadata": {
  "kernelspec": {
   "display_name": "ikernel_cil",
   "language": "python",
   "name": "ikernel_cil"
  },
  "language_info": {
   "codemirror_mode": {
    "name": "ipython",
    "version": 3
   },
   "file_extension": ".py",
   "mimetype": "text/x-python",
   "name": "python",
   "nbconvert_exporter": "python",
   "pygments_lexer": "ipython3",
   "version": "3.9.4"
  }
 },
 "nbformat": 4,
 "nbformat_minor": 5
}
